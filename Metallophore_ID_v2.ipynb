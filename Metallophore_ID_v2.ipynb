{
 "cells": [
  {
   "cell_type": "code",
   "execution_count": 1,
   "metadata": {},
   "outputs": [],
   "source": [
    "import os\n",
    "import numpy as np\n",
    "import pandas as pd\n",
    "import re\n",
    "import seaborn as sns\n",
    "import time"
   ]
  },
  {
   "cell_type": "code",
   "execution_count": null,
   "metadata": {},
   "outputs": [],
   "source": [
    "# Functions\n",
    "\n",
    "def masses_from_metaboscape(csv_file_path):\n",
    "    \"\"\"Reads in a csv file from Metaboscape and returns a dictionary or samples and their respective masses.\"\"\"\n",
    "    csv = pd.read_csv(csv_file_path)\n",
    "    # Make the first column the index\n",
    "    csv = csv.set_index(csv.columns[0])\n",
    "    samples_dict\n",
    "    # Intensity filter to remove peaks with intensity below 5000, as they are less likely to be accurate masses or significant.\n",
    "    intensity_filter = 10000\n",
    "    csv_masses_filtered = {}\n",
    "    for index, row in csv_masses.iterrows():\n",
    "        if row[\"MSMS_D937_A_2-E,1_01_20306\"] > intensity_filter:\n",
    "            csv_masses_filtered[row[\"Bucket label\"]] = row[\"MSMS_D937_A_2-E,1_01_20306\"]\n",
    "    csv_masses_filtered = pd.DataFrame.from_dict(csv_masses_filtered, orient=\"index\")\n",
    "    # Add integer index and column name to the filtered masses dataframe.\n",
    "    csv_masses_filtered = csv_masses_filtered.reset_index()\n",
    "    csv_masses_filtered.columns = [\"Bucket label\", \"MSMS_D937_A_2-E,1_01_20306\"]"
   ]
  },
  {
   "cell_type": "code",
   "execution_count": 35,
   "metadata": {},
   "outputs": [
    {
     "name": "stdout",
     "output_type": "stream",
     "text": [
      "(12511, 3)\n"
     ]
    },
    {
     "data": {
      "text/html": [
       "<div>\n",
       "<style scoped>\n",
       "    .dataframe tbody tr th:only-of-type {\n",
       "        vertical-align: middle;\n",
       "    }\n",
       "\n",
       "    .dataframe tbody tr th {\n",
       "        vertical-align: top;\n",
       "    }\n",
       "\n",
       "    .dataframe thead th {\n",
       "        text-align: right;\n",
       "    }\n",
       "</style>\n",
       "<table border=\"1\" class=\"dataframe\">\n",
       "  <thead>\n",
       "    <tr style=\"text-align: right;\">\n",
       "      <th></th>\n",
       "      <th>Bucket label</th>\n",
       "      <th>MSMS_D937_A_2-E,1_01_20306</th>\n",
       "      <th>MSMS_D937_R_2-E,2_01_20308</th>\n",
       "    </tr>\n",
       "  </thead>\n",
       "  <tbody>\n",
       "    <tr>\n",
       "      <th>0</th>\n",
       "      <td>625.30578 Da 120.43 s</td>\n",
       "      <td>1532.0</td>\n",
       "      <td>0.0</td>\n",
       "    </tr>\n",
       "    <tr>\n",
       "      <th>1</th>\n",
       "      <td>278.12929 Da 120.43 s</td>\n",
       "      <td>4772.0</td>\n",
       "      <td>0.0</td>\n",
       "    </tr>\n",
       "    <tr>\n",
       "      <th>2</th>\n",
       "      <td>644.30171 Da 120.43 s</td>\n",
       "      <td>2360.0</td>\n",
       "      <td>0.0</td>\n",
       "    </tr>\n",
       "    <tr>\n",
       "      <th>3</th>\n",
       "      <td>241.17878 Da 120.62 s</td>\n",
       "      <td>20732.0</td>\n",
       "      <td>6504.0</td>\n",
       "    </tr>\n",
       "    <tr>\n",
       "      <th>4</th>\n",
       "      <td>150.01609 Da 122.32 s</td>\n",
       "      <td>1780.0</td>\n",
       "      <td>2064.0</td>\n",
       "    </tr>\n",
       "  </tbody>\n",
       "</table>\n",
       "</div>"
      ],
      "text/plain": [
       "            Bucket label  MSMS_D937_A_2-E,1_01_20306  \\\n",
       "0  625.30578 Da 120.43 s                      1532.0   \n",
       "1  278.12929 Da 120.43 s                      4772.0   \n",
       "2  644.30171 Da 120.43 s                      2360.0   \n",
       "3  241.17878 Da 120.62 s                     20732.0   \n",
       "4  150.01609 Da 122.32 s                      1780.0   \n",
       "\n",
       "   MSMS_D937_R_2-E,2_01_20308  \n",
       "0                         0.0  \n",
       "1                         0.0  \n",
       "2                         0.0  \n",
       "3                      6504.0  \n",
       "4                      2064.0  "
      ]
     },
     "metadata": {},
     "output_type": "display_data"
    },
    {
     "name": "stdout",
     "output_type": "stream",
     "text": [
      "Masses shape:  (12511, 2)\n",
      "Filtered Masses shape:  (2324, 2)\n"
     ]
    },
    {
     "data": {
      "text/html": [
       "<div>\n",
       "<style scoped>\n",
       "    .dataframe tbody tr th:only-of-type {\n",
       "        vertical-align: middle;\n",
       "    }\n",
       "\n",
       "    .dataframe tbody tr th {\n",
       "        vertical-align: top;\n",
       "    }\n",
       "\n",
       "    .dataframe thead th {\n",
       "        text-align: right;\n",
       "    }\n",
       "</style>\n",
       "<table border=\"1\" class=\"dataframe\">\n",
       "  <thead>\n",
       "    <tr style=\"text-align: right;\">\n",
       "      <th></th>\n",
       "      <th>Bucket label</th>\n",
       "      <th>MSMS_D937_A_2-E,1_01_20306</th>\n",
       "    </tr>\n",
       "  </thead>\n",
       "  <tbody>\n",
       "    <tr>\n",
       "      <th>0</th>\n",
       "      <td>241.17878 Da 120.62 s</td>\n",
       "      <td>20732.0</td>\n",
       "    </tr>\n",
       "    <tr>\n",
       "      <th>1</th>\n",
       "      <td>323.13811 Da 130.67 s</td>\n",
       "      <td>14972.0</td>\n",
       "    </tr>\n",
       "    <tr>\n",
       "      <th>2</th>\n",
       "      <td>342.18043 Da 132.69 s</td>\n",
       "      <td>28360.0</td>\n",
       "    </tr>\n",
       "    <tr>\n",
       "      <th>3</th>\n",
       "      <td>301.19977 Da 134.98 s</td>\n",
       "      <td>11732.0</td>\n",
       "    </tr>\n",
       "    <tr>\n",
       "      <th>4</th>\n",
       "      <td>530.26933 Da 146.02 s</td>\n",
       "      <td>15108.0</td>\n",
       "    </tr>\n",
       "  </tbody>\n",
       "</table>\n",
       "</div>"
      ],
      "text/plain": [
       "            Bucket label  MSMS_D937_A_2-E,1_01_20306\n",
       "0  241.17878 Da 120.62 s                     20732.0\n",
       "1  323.13811 Da 130.67 s                     14972.0\n",
       "2  342.18043 Da 132.69 s                     28360.0\n",
       "3  301.19977 Da 134.98 s                     11732.0\n",
       "4  530.26933 Da 146.02 s                     15108.0"
      ]
     },
     "metadata": {},
     "output_type": "display_data"
    }
   ],
   "source": [
    "# Import the masses csv\n",
    "\n",
    "csv_masses = pd.read_csv(\"C:/Users/nbrittin/Desktop/test/Metallophore_ID/test_masses.csv\")\n",
    "\n",
    "print(csv_masses.shape)\n",
    "display(csv_masses.head())\n",
    "\n",
    "# Drop the second sample column, as it is not needed.\n",
    "csv_masses = csv_masses.drop(columns=[\"MSMS_D937_R_2-E,2_01_20308\"])\n",
    "print(\"Masses shape: \", csv_masses.shape)\n",
    "# Intensity filter to remove peaks with intensity below 5000, as they are less likely to be accurate masses or significant.\n",
    "intensity_filter = 10000\n",
    "csv_masses_filtered = {}\n",
    "for index, row in csv_masses.iterrows():\n",
    "    if row[\"MSMS_D937_A_2-E,1_01_20306\"] > intensity_filter:\n",
    "        csv_masses_filtered[row[\"Bucket label\"]] = row[\"MSMS_D937_A_2-E,1_01_20306\"]\n",
    "csv_masses_filtered = pd.DataFrame.from_dict(csv_masses_filtered, orient=\"index\")\n",
    "# Add integer index and column name to the filtered masses dataframe.\n",
    "csv_masses_filtered = csv_masses_filtered.reset_index()\n",
    "csv_masses_filtered.columns = [\"Bucket label\", \"MSMS_D937_A_2-E,1_01_20306\"]\n",
    "\n",
    "print(\"Filtered Masses shape: \", csv_masses_filtered.shape)\n",
    "display(csv_masses_filtered.head())"
   ]
  },
  {
   "cell_type": "code",
   "execution_count": 36,
   "metadata": {},
   "outputs": [
    {
     "name": "stdout",
     "output_type": "stream",
     "text": [
      "Number of Buckets:  2324\n",
      "Subtraction Matrix Shape:  (2324, 2324)\n",
      "[[  0.       81.95933 101.00165 ... 113.0967   22.9932   81.0115 ]\n",
      " [ 81.95933   0.       19.04232 ...  31.13737  58.96613   0.94783]\n",
      " [101.00165  19.04232   0.      ...  12.09505  78.00845  19.99015]\n",
      " ...\n",
      " [113.0967   31.13737  12.09505 ...   0.       90.1035   32.0852 ]\n",
      " [ 22.9932   58.96613  78.00845 ...  90.1035    0.       58.0183 ]\n",
      " [ 81.0115    0.94783  19.99015 ...  32.0852   58.0183    0.     ]]\n"
     ]
    }
   ],
   "source": [
    "bucket_labels = csv_masses_filtered['Bucket label'].to_list()\n",
    "# print(len(bucket_labels))\n",
    "masses = []\n",
    "for i in bucket_labels:\n",
    "    mass = re.search(r'([0-9]+\\.[0-9]+) Da', i).group(1)\n",
    "    masses.append(float(mass))\n",
    "print(\"Number of Buckets: \", len(masses))\n",
    "\n",
    "# Make a subtraction matrix\n",
    "np.array(masses)\n",
    "subtraction_matrix = np.absolute(np.subtract.outer(masses, masses))\n",
    "print(\"Subtraction Matrix Shape: \", subtraction_matrix.shape)\n",
    "print(subtraction_matrix)\n"
   ]
  },
  {
   "cell_type": "code",
   "execution_count": 37,
   "metadata": {},
   "outputs": [
    {
     "name": "stdout",
     "output_type": "stream",
     "text": [
      "Time taken:  0.033011436462402344\n",
      "Number of matching values:  13.0\n"
     ]
    }
   ],
   "source": [
    "adduct_mass_difference = 54.92712\n",
    "low_bound = adduct_mass_difference - 0.001\n",
    "high_bound = adduct_mass_difference + 0.001\n",
    "data_array = subtraction_matrix\n",
    "start = time.time()\n",
    "column_names = masses\n",
    "row_names = masses\n",
    "condition_mask = np.logical_and(data_array >= low_bound, data_array <= high_bound)\n",
    "row_indices, col_indices = np.where(condition_mask)\n",
    "matching_values_dict = {}\n",
    "for row_idx, col_idx in zip(row_indices, col_indices):\n",
    "    key = f\"{row_names[row_idx]}_{column_names[col_idx]}\"\n",
    "    matching_values_dict[key] = data_array[row_idx, col_idx]\n",
    "stop = time.time()\n",
    "print(\"Time taken: \", stop - start)\n",
    "print(\"Number of matching values: \", len(matching_values_dict) / 2)\n",
    "# print(matching_values_dict)"
   ]
  },
  {
   "cell_type": "code",
   "execution_count": null,
   "metadata": {},
   "outputs": [],
   "source": []
  }
 ],
 "metadata": {
  "kernelspec": {
   "display_name": "Python 3",
   "language": "python",
   "name": "python3"
  },
  "language_info": {
   "codemirror_mode": {
    "name": "ipython",
    "version": 3
   },
   "file_extension": ".py",
   "mimetype": "text/x-python",
   "name": "python",
   "nbconvert_exporter": "python",
   "pygments_lexer": "ipython3",
   "version": "3.9.13"
  },
  "orig_nbformat": 4
 },
 "nbformat": 4,
 "nbformat_minor": 2
}
