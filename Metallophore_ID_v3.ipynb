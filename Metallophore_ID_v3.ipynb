{
 "cells": [
  {
   "cell_type": "code",
   "execution_count": 3,
   "metadata": {},
   "outputs": [],
   "source": [
    "import os\n",
    "import numpy as np\n",
    "import pandas as pd\n",
    "import re\n",
    "import seaborn as sns\n",
    "import time"
   ]
  },
  {
   "cell_type": "code",
   "execution_count": 38,
   "metadata": {},
   "outputs": [],
   "source": [
    "# Functions\n",
    "\n",
    "def masses_from_metaboscape(csv_file_path, intensity_filter=5000, regex=r'([0-9]+\\.[0-9]+) Da'):\n",
    "    \"\"\"Reads in a csv file from Metaboscape and returns a dictionary or samples and their respective masses. This also removes the retention time from the buceket label.\"\"\"\n",
    "    csv = pd.read_csv(csv_file_path)\n",
    "    # Make the first column the index\n",
    "    csv = csv.set_index(csv.columns[0])\n",
    "    # Add each column to a dictionary with the column name as the key\n",
    "    samples_dict = {}\n",
    "    for column in csv.columns:\n",
    "        samples_dict[column] = csv[column]  \n",
    "    # Remove all values below the intensity filter  \n",
    "    regex = re.compile(regex)\n",
    "    for value in samples_dict.values():\n",
    "        for index, item in enumerate(value):\n",
    "            if item <= intensity_filter:\n",
    "                value[index] = np.nan\n",
    "        value.dropna(inplace=True)\n",
    "    df = pd.DataFrame.from_dict(samples_dict)\n",
    "    df.transpose()\n",
    "    display(df.head())\n",
    "    return df\n",
    "\n",
    "def find_sodium_adducts(sample_dict, RT_window=30):\n",
    "    \"This function takes in a pandas DataFrame of samples with intensities for each 'Bucket Label' and computes a subtraction matrix of the masses. It then returns a list of the mass pairs correlated to sodium adducts. The pairs are then filtered by a retention time window that defaults to 30 seconds, but can be adjusted.\\n\\nThe function returns a list of deduplicated tuples with the mass pairs and their retention times.\\n\\nExample Input: \\n\\nprint(sample_df)\\n\\n['Bucket Label', Sample1, Sample2]\\n\\n['241.17878 Da 120.62 s', 20732.0, 4203.0]\\n\\n['226.11049 Da 126.64 s', 7396.0, 10345.4]\\n\\n['241.17878 Da 120.62 s', 20732.0, 6819.0]\\n\\n['263.15878 Da 121.50 s', 7396.0, 9203.0]\\n\\nExample Output: sodium_adducts=[['241.17878 Da 120.62 s' , '263.15878 Da 121.50 s', 21.98999 Da, 0.88 s]]\"\n",
    "    sample_names = list(sample_dict.keys())\n",
    "    bucket_labels = sample_dict['Bucket label'].to_list()\n",
    "    # print(len(bucket_labels))\n",
    "    mass_list = []\n",
    "    for i in bucket_labels:\n",
    "        mass = re.search(r'([0-9]+\\.[0-9]+) Da', i).group(1)\n",
    "        mass_list.append(float(mass))\n",
    "    # print(\"Number of Buckets: \", len(mass_list))\n",
    "    np.array(mass_list)\n",
    "    subtraction_matrix = np.absolute(np.subtract.outer(mass_list, mass_list))\n",
    "    # print(\"Subtraction Matrix Shape: \", subtraction_matrix.shape)\n",
    "    # print(subtraction_matrix)\n",
    "    adduct_mass_difference = 22.9897692820\n",
    "    low_bound = adduct_mass_difference - 0.001 #These can be improved with ppm instead of set values, maybe even specifying for mass ranges since accuracy improves with lower masses\n",
    "    high_bound = adduct_mass_difference + 0.001 #These can be improved with ppm instead of set values, maybe even specifying for mass ranges since accuracy improves with lower masses\n",
    "    data_array = subtraction_matrix\n",
    "    start = time.time()\n",
    "    column_names = mass_list\n",
    "    row_names = mass_list\n",
    "    condition_mask = np.logical_and(data_array >= low_bound, data_array <= high_bound)\n",
    "    row_indices, col_indices = np.where(condition_mask)\n",
    "    matching_values_dict = {}\n",
    "    for row_idx, col_idx in zip(row_indices, col_indices):\n",
    "        key = f\"{row_names[row_idx]}_{column_names[col_idx]}\"\n",
    "        matching_values_dict[key] = data_array[row_idx, col_idx]\n",
    "    stop = time.time()\n",
    "    print(\"Time taken: \", stop - start)\n",
    "    print(\"Number of matching values: \", len(matching_values_dict) / 2)\n",
    "    return matching_values_dict"
   ]
  },
  {
   "cell_type": "code",
   "execution_count": 41,
   "metadata": {},
   "outputs": [
    {
     "data": {
      "text/plain": [
       "{'MSMS_D937_A_2-E,1_01_20306': Bucket label\n",
       " 241.17878 Da 120.62 s    20732.0\n",
       " 226.11049 Da 126.64 s     7396.0\n",
       " 323.13811 Da 130.67 s    14972.0\n",
       " 342.18043 Da 132.69 s    28360.0\n",
       " 301.19977 Da 134.98 s    11732.0\n",
       "                           ...   \n",
       " 465.34421 Da 719.45 s    14096.0\n",
       " 758.49340 Da 717.24 s    28828.0\n",
       " 354.27548 Da 717.51 s    17596.0\n",
       " 264.17198 Da 719.45 s    22572.0\n",
       " 322.19028 Da 719.45 s    39388.0\n",
       " Name: MSMS_D937_A_2-E,1_01_20306, Length: 3733, dtype: float64,\n",
       " 'MSMS_D937_R_2-E,2_01_20308': Bucket label\n",
       " 241.17878 Da 120.62 s     6504.0\n",
       " 226.11049 Da 126.64 s     7396.0\n",
       " 323.13811 Da 130.67 s    18124.0\n",
       " 342.18043 Da 132.69 s    21716.0\n",
       " 301.19977 Da 134.98 s    26852.0\n",
       "                           ...   \n",
       " 546.35368 Da 718.70 s     5604.0\n",
       " 758.49340 Da 717.24 s    24272.0\n",
       " 588.43732 Da 718.70 s     5376.0\n",
       " 354.27548 Da 717.51 s     6948.0\n",
       " 322.19028 Da 719.45 s    38076.0\n",
       " Name: MSMS_D937_R_2-E,2_01_20308, Length: 3943, dtype: float64}"
      ]
     },
     "metadata": {},
     "output_type": "display_data"
    }
   ],
   "source": [
    "sample_dict = masses_from_metaboscape(\"C:/Users/nbrittin/Desktop/test/Metallophore_ID/test_masses.csv\")\n",
    "display(sample_dict)"
   ]
  },
  {
   "cell_type": "code",
   "execution_count": 55,
   "metadata": {},
   "outputs": [
    {
     "data": {
      "text/html": [
       "<div>\n",
       "<style scoped>\n",
       "    .dataframe tbody tr th:only-of-type {\n",
       "        vertical-align: middle;\n",
       "    }\n",
       "\n",
       "    .dataframe tbody tr th {\n",
       "        vertical-align: top;\n",
       "    }\n",
       "\n",
       "    .dataframe thead th {\n",
       "        text-align: right;\n",
       "    }\n",
       "</style>\n",
       "<table border=\"1\" class=\"dataframe\">\n",
       "  <thead>\n",
       "    <tr style=\"text-align: right;\">\n",
       "      <th></th>\n",
       "      <th>MSMS_D937_A_2-E,1_01_20306</th>\n",
       "      <th>MSMS_D937_R_2-E,2_01_20308</th>\n",
       "    </tr>\n",
       "    <tr>\n",
       "      <th>Bucket label</th>\n",
       "      <th></th>\n",
       "      <th></th>\n",
       "    </tr>\n",
       "  </thead>\n",
       "  <tbody>\n",
       "    <tr>\n",
       "      <th>1000.54232 Da 675.77 s</th>\n",
       "      <td>10764.0</td>\n",
       "      <td>NaN</td>\n",
       "    </tr>\n",
       "    <tr>\n",
       "      <th>1001.48144 Da 342.09 s</th>\n",
       "      <td>5912.0</td>\n",
       "      <td>NaN</td>\n",
       "    </tr>\n",
       "    <tr>\n",
       "      <th>1001.48281 Da 342.09 s</th>\n",
       "      <td>9920.0</td>\n",
       "      <td>NaN</td>\n",
       "    </tr>\n",
       "    <tr>\n",
       "      <th>1002.47756 Da 364.91 s</th>\n",
       "      <td>16472.0</td>\n",
       "      <td>NaN</td>\n",
       "    </tr>\n",
       "    <tr>\n",
       "      <th>1002.58673 Da 560.75 s</th>\n",
       "      <td>5324.0</td>\n",
       "      <td>NaN</td>\n",
       "    </tr>\n",
       "  </tbody>\n",
       "</table>\n",
       "</div>"
      ],
      "text/plain": [
       "                        MSMS_D937_A_2-E,1_01_20306  MSMS_D937_R_2-E,2_01_20308\n",
       "Bucket label                                                                  \n",
       "1000.54232 Da 675.77 s                     10764.0                         NaN\n",
       "1001.48144 Da 342.09 s                      5912.0                         NaN\n",
       "1001.48281 Da 342.09 s                      9920.0                         NaN\n",
       "1002.47756 Da 364.91 s                     16472.0                         NaN\n",
       "1002.58673 Da 560.75 s                      5324.0                         NaN"
      ]
     },
     "metadata": {},
     "output_type": "display_data"
    }
   ],
   "source": [
    "df = pd.DataFrame.from_dict(sample_dict)\n",
    "df.transpose()\n",
    "display(df.head())"
   ]
  }
 ],
 "metadata": {
  "kernelspec": {
   "display_name": "Python 3",
   "language": "python",
   "name": "python3"
  },
  "language_info": {
   "codemirror_mode": {
    "name": "ipython",
    "version": 3
   },
   "file_extension": ".py",
   "mimetype": "text/x-python",
   "name": "python",
   "nbconvert_exporter": "python",
   "pygments_lexer": "ipython3",
   "version": "3.9.13"
  },
  "orig_nbformat": 4
 },
 "nbformat": 4,
 "nbformat_minor": 2
}
